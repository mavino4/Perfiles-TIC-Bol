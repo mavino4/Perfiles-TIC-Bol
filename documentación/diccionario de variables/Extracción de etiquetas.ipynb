{
 "cells": [
  {
   "cell_type": "code",
   "execution_count": 1,
   "metadata": {},
   "outputs": [],
   "source": [
    "import pandas as pd"
   ]
  },
  {
   "cell_type": "code",
   "execution_count": 2,
   "metadata": {
    "scrolled": true
   },
   "outputs": [],
   "source": [
    "labeles = pd.read_excel(\"a12.xlsx\", names = [\"descr\",\"pos\",\"value\",\"aaa\"])"
   ]
  },
  {
   "cell_type": "code",
   "execution_count": 3,
   "metadata": {},
   "outputs": [
    {
     "data": {
      "text/plain": [
       "(5501, 4)"
      ]
     },
     "execution_count": 3,
     "metadata": {},
     "output_type": "execute_result"
    }
   ],
   "source": [
    "labeles.shape"
   ]
  },
  {
   "cell_type": "code",
   "execution_count": 4,
   "metadata": {
    "scrolled": true
   },
   "outputs": [
    {
     "data": {
      "text/plain": [
       "431"
      ]
     },
     "execution_count": 4,
     "metadata": {},
     "output_type": "execute_result"
    }
   ],
   "source": [
    "dfs = []\n",
    "li , ls = 0, 0\n",
    "table = False\n",
    "for i in range(labeles.pos.size):\n",
    "    if labeles.pos[i] == \"Posición\" and not table:\n",
    "        li = i \n",
    "        table = True\n",
    "    elif pd.isna(labeles.pos[i]) and table:\n",
    "        ls = i         \n",
    "        dfs.append(labeles.iloc[li:ls,:])    \n",
    "        table = False\n",
    "len(dfs)"
   ]
  },
  {
   "cell_type": "code",
   "execution_count": 5,
   "metadata": {},
   "outputs": [
    {
     "data": {
      "text/plain": [
       "[       descr       pos                                   value  aaa\n",
       " 2  Atributos  Posición                                       2  NaN\n",
       " 3   estándar  Etiqueta  1. ¿Me podría decir su edad por favor?  NaN\n",
       " 4        NaN      Tipo                                Numérico  NaN\n",
       " 5        NaN   Formato                                      F2  NaN\n",
       " 6        NaN  Medición                                  Escala  NaN,\n",
       "               descr       pos  \\\n",
       " 9         Atributos  Posición   \n",
       " 10         estándar  Etiqueta   \n",
       " 11              NaN      Tipo   \n",
       " 12              NaN   Formato   \n",
       " 13              NaN  Medición   \n",
       " 14  Valores válidos         1   \n",
       " 15              NaN         2   \n",
       " \n",
       "                                                 value  aaa  \n",
       " 9                                                   3  NaN  \n",
       " 10  2. ¿Usted ha navegado por Internet o se ha con...  NaN  \n",
       " 11                                           Numérico  NaN  \n",
       " 12                                                 F1  NaN  \n",
       " 13                                            Nominal  NaN  \n",
       " 14                                                 Si  NaN  \n",
       " 15                                                 No  NaN  ,\n",
       "               descr       pos  \\\n",
       " 18        Atributos  Posición   \n",
       " 19         estándar  Etiqueta   \n",
       " 20              NaN      Tipo   \n",
       " 21              NaN   Formato   \n",
       " 22              NaN  Medición   \n",
       " 23  Valores válidos         1   \n",
       " 24              NaN         2   \n",
       " 25              NaN         3   \n",
       " 26              NaN         4   \n",
       " \n",
       "                                                 value  aaa  \n",
       " 18                                                  4  NaN  \n",
       " 19  3. ¿Cuándo fue la última vez que navegó en Int...  NaN  \n",
       " 20                                           Numérico  NaN  \n",
       " 21                                                 F1  NaN  \n",
       " 22                                            Nominal  NaN  \n",
       " 23                                Hace 7 días o menos  NaN  \n",
       " 24                                  Entre 8 a 15 días  NaN  \n",
       " 25                                 Entre 16 a 30 días  NaN  \n",
       " 26                                Hace más de 30 días  NaN  ]"
      ]
     },
     "execution_count": 5,
     "metadata": {},
     "output_type": "execute_result"
    }
   ],
   "source": [
    "dfs[0:3]"
   ]
  },
  {
   "cell_type": "code",
   "execution_count": 6,
   "metadata": {},
   "outputs": [
    {
     "data": {
      "text/plain": [
       "285"
      ]
     },
     "execution_count": 6,
     "metadata": {},
     "output_type": "execute_result"
    }
   ],
   "source": [
    "dfs_2 = []\n",
    "for df in dfs:\n",
    "    if not bool(df[(df[\"value\"] == \"Escala\") | (df[\"value\"] == \"Cadena\") ].size):\n",
    "        dfs_2.append(df)\n",
    "        \n",
    "len(dfs_2)"
   ]
  },
  {
   "cell_type": "code",
   "execution_count": 7,
   "metadata": {},
   "outputs": [],
   "source": [
    "# Función que genera la lista de etiqueta\n",
    "def c_labels(df):\n",
    "    line = \"labels <- c(\"\n",
    "    for i in df.iloc[:,1]:\n",
    "        line += \"\\\"\" + i  + \"\\\"\"+ \", \"\n",
    "    line = line[:-2] + \" )\"\n",
    "    return line"
   ]
  },
  {
   "cell_type": "code",
   "execution_count": 20,
   "metadata": {},
   "outputs": [],
   "source": [
    "# Función que genera la lista de 3 comandos para etiquetar las variables \n",
    "def gen_comand(dfs_test): \n",
    "    for i in range(dfs_test.shape[0]):\n",
    "        try: \n",
    "            dfs_test.iloc[i:,:].pos.astype(\"int32\")\n",
    "            position = (dfs_test.iloc[0,2])\n",
    "            name = \"P\" + str(dfs_test.iloc[1,2]).split(\".\", 1)[0].upper()\n",
    "            labels = dfs_test.iloc[i:,1:3]\n",
    "            comand = [\"# position: \"+ position, \"bd$%s <- as.factor(bd$%s)\" % (name, name),  c_labels(labels),  \"levels(bd$%s) <- labels\" %(name)]\n",
    "            break\n",
    "        except:\n",
    "            comand = []\n",
    "            pass\n",
    "    return comand"
   ]
  },
  {
   "cell_type": "code",
   "execution_count": 21,
   "metadata": {
    "scrolled": false
   },
   "outputs": [],
   "source": [
    "salida = open(\"output.txt\", 'w+')\n",
    "lineas = []\n",
    "for df in dfs_2:\n",
    "    comand = gen_comand(df)\n",
    "    #print(comand)\n",
    "    if comand and comand not in lineas:\n",
    "        lineas.append(comand)\n"
   ]
  },
  {
   "cell_type": "code",
   "execution_count": 22,
   "metadata": {},
   "outputs": [],
   "source": [
    "for question in lineas:\n",
    "    for linea in question:\n",
    "        salida.write(linea + \"\\n\")"
   ]
  },
  {
   "cell_type": "markdown",
   "metadata": {},
   "source": []
  }
 ],
 "metadata": {
  "kernelspec": {
   "display_name": "Python 3",
   "language": "python",
   "name": "python3"
  },
  "language_info": {
   "codemirror_mode": {
    "name": "ipython",
    "version": 3
   },
   "file_extension": ".py",
   "mimetype": "text/x-python",
   "name": "python",
   "nbconvert_exporter": "python",
   "pygments_lexer": "ipython3",
   "version": "3.6.3"
  }
 },
 "nbformat": 4,
 "nbformat_minor": 2
}
